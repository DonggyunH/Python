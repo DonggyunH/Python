{
 "cells": [
  {
   "cell_type": "markdown",
   "metadata": {},
   "source": [
    "--폰트 설정"
   ]
  },
  {
   "cell_type": "code",
   "execution_count": 3,
   "metadata": {},
   "outputs": [
    {
     "data": {
      "text/plain": [
       "'HYGothic-Extra'"
      ]
     },
     "execution_count": 3,
     "metadata": {},
     "output_type": "execute_result"
    }
   ],
   "source": [
    "import matplotlib as mpl\n",
    "from matplotlib import font_manager\n",
    "font_location = 'C:\\\\Windows\\\\Fonts\\\\H2GTRE.TTF' # For Windows\n",
    "# font_location = 'C:/Users/Hong/AppData/Local/Microsoft/Windows/Fonts/SCDream6.otf' # For Windows\n",
    "font_name = mpl.font_manager.FontProperties(fname=font_location).get_name()\n",
    "mpl.rc('font', family=font_name)\n",
    "font_name"
   ]
  },
  {
   "cell_type": "markdown",
   "metadata": {},
   "source": [
    "-- 그래프 설정"
   ]
  },
  {
   "cell_type": "code",
   "execution_count": null,
   "metadata": {},
   "outputs": [],
   "source": [
    "#dark 모드\n",
    "plt.style.use('dark_background')\n",
    "# mpl.rcParams['text.color'] = 'white'\n",
    "\n",
    "# mpl.rcParams['axes.labelcolor'] = 'white'\n",
    "# mpl.rcParams['xtick.color'] = 'white'\n",
    "# mpl.rcParams['ytick.color'] = 'white'\n",
    "\n",
    "# mpl.rcParams['figure.facecolor'] = 'black'\n",
    "# mpl.rcParams['grid.color'] = 'gray'\n",
    "\n",
    "\n",
    "# 그 외 배경 \n",
    "mpl.rcParams['text.color'] = 'black'\n",
    "\n",
    "mpl.rcParams['axes.labelcolor'] = 'black'\n",
    "mpl.rcParams['xtick.color'] = 'black'\n",
    "mpl.rcParams['ytick.color'] = 'black'\n",
    "mpl.rcParams['grid.color'] = 'gray'\n",
    "# plt.style.use('dark_background')\n",
    "plt.style.use('Solarize_Light2')\n",
    "# plt.style.use('grayscale')\n",
    "# plt.style.use('seaborn-v0_8')\n",
    "# plt.style.use('seaborn-v0_8-dark-palette')\n",
    "\n",
    "\n",
    "\n",
    "mpl.rcParams['figure.figsize'] = (10,5)\n",
    "mpl.rcParams['axes.titlesize'] = 30\n",
    "mpl.rcParams['axes.labelsize'] = 30\n",
    "mpl.rcParams['legend.fontsize'] = 8\n",
    "mpl.rcParams['xtick.labelsize'] = 15\n",
    "mpl.rcParams['ytick.labelsize'] = 15\n",
    "# 그래프에 한글 설정\n",
    "# mpl.rcParams['font.family'] = 'HYGothic-Extra'\n",
    "# mpl.rcParams['font.family'] = 'Nanum Pen Script'\n",
    "\n",
    "# mpl.rcParams['font.family'] = 'Fira Code'\n",
    "mpl.rcParams['font.family'] = 'Harlow Solid Italic'\n",
    "# mpl.rcParams['font.family'] = 'S-Core Dream'\n",
    "# mpl.rcParams['font.family'] = 'Segoe Print'\n",
    "\n",
    "# 그래프에 마이너스 기호 깨지는 문제 해결\n",
    "mpl.rcParams['axes.unicode_minus'] = False"
   ]
  },
  {
   "cell_type": "markdown",
   "metadata": {},
   "source": [
    "--Plotly\n",
    "--https://velog.io/@sungrok7/Python-Day-13\n",
    "--https://wikidocs.net/187247"
   ]
  },
  {
   "cell_type": "code",
   "execution_count": 2,
   "metadata": {},
   "outputs": [
    {
     "ename": "KeyboardInterrupt",
     "evalue": "",
     "output_type": "error",
     "traceback": [
      "\u001b[1;31m---------------------------------------------------------------------------\u001b[0m",
      "\u001b[1;31mKeyboardInterrupt\u001b[0m                         Traceback (most recent call last)",
      "Cell \u001b[1;32mIn[2], line 6\u001b[0m\n\u001b[0;32m      3\u001b[0m pio\u001b[38;5;241m.\u001b[39mtemplates\u001b[38;5;241m.\u001b[39mdefault \u001b[38;5;241m=\u001b[39m \u001b[38;5;124m\"\u001b[39m\u001b[38;5;124mplotly_dark\u001b[39m\u001b[38;5;124m\"\u001b[39m\n\u001b[0;32m      5\u001b[0m \u001b[38;5;28;01mimport\u001b[39;00m \u001b[38;5;21;01mplotly\u001b[39;00m\u001b[38;5;21;01m.\u001b[39;00m\u001b[38;5;21;01mgraph_objects\u001b[39;00m \u001b[38;5;28;01mas\u001b[39;00m \u001b[38;5;21;01mgo\u001b[39;00m \u001b[38;5;66;03m# 디테일한 설정\u001b[39;00m\n\u001b[1;32m----> 6\u001b[0m \u001b[38;5;28;01mimport\u001b[39;00m \u001b[38;5;21;01mplotly\u001b[39;00m\u001b[38;5;21;01m.\u001b[39;00m\u001b[38;5;21;01mfigure_factory\u001b[39;00m \u001b[38;5;28;01mas\u001b[39;00m \u001b[38;5;21;01mff\u001b[39;00m \u001b[38;5;66;03m# 템플릿 불러오기\u001b[39;00m\n\u001b[0;32m      7\u001b[0m \u001b[38;5;28;01mfrom\u001b[39;00m \u001b[38;5;21;01mplotly\u001b[39;00m\u001b[38;5;21;01m.\u001b[39;00m\u001b[38;5;21;01msubplots\u001b[39;00m \u001b[38;5;28;01mimport\u001b[39;00m make_subplots \u001b[38;5;66;03m# subplot 만들기\u001b[39;00m\n\u001b[0;32m      8\u001b[0m \u001b[38;5;28;01mfrom\u001b[39;00m \u001b[38;5;21;01mplotly\u001b[39;00m\u001b[38;5;21;01m.\u001b[39;00m\u001b[38;5;21;01mvalidators\u001b[39;00m\u001b[38;5;21;01m.\u001b[39;00m\u001b[38;5;21;01mscatter\u001b[39;00m\u001b[38;5;21;01m.\u001b[39;00m\u001b[38;5;21;01mmarker\u001b[39;00m \u001b[38;5;28;01mimport\u001b[39;00m SymbolsrcValidator \u001b[38;5;66;03m# Symbol 꾸미기 \u001b[39;00m\n",
      "File \u001b[1;32mc:\\Users\\Hong\\anaconda3\\Lib\\site-packages\\plotly\\figure_factory\\__init__.py:6\u001b[0m\n\u001b[0;32m      3\u001b[0m \u001b[38;5;28;01mfrom\u001b[39;00m \u001b[38;5;21;01mplotly\u001b[39;00m \u001b[38;5;28;01mimport\u001b[39;00m optional_imports\n\u001b[0;32m      5\u001b[0m \u001b[38;5;66;03m# Require that numpy exists for figure_factory\u001b[39;00m\n\u001b[1;32m----> 6\u001b[0m np \u001b[38;5;241m=\u001b[39m \u001b[43moptional_imports\u001b[49m\u001b[38;5;241;43m.\u001b[39;49m\u001b[43mget_module\u001b[49m\u001b[43m(\u001b[49m\u001b[38;5;124;43m\"\u001b[39;49m\u001b[38;5;124;43mnumpy\u001b[39;49m\u001b[38;5;124;43m\"\u001b[39;49m\u001b[43m)\u001b[49m\n\u001b[0;32m      7\u001b[0m \u001b[38;5;28;01mif\u001b[39;00m np \u001b[38;5;129;01mis\u001b[39;00m \u001b[38;5;28;01mNone\u001b[39;00m:\n\u001b[0;32m      8\u001b[0m     \u001b[38;5;28;01mraise\u001b[39;00m \u001b[38;5;167;01mImportError\u001b[39;00m(\n\u001b[0;32m      9\u001b[0m \u001b[38;5;250m        \u001b[39m\u001b[38;5;124;03m\"\"\"\\\u001b[39;00m\n\u001b[0;32m     10\u001b[0m \u001b[38;5;124;03mThe figure factory module requires the numpy package\"\"\"\u001b[39;00m\n\u001b[0;32m     11\u001b[0m     )\n",
      "File \u001b[1;32mc:\\Users\\Hong\\anaconda3\\Lib\\site-packages\\_plotly_utils\\optional_imports.py:30\u001b[0m, in \u001b[0;36mget_module\u001b[1;34m(name, should_load)\u001b[0m\n\u001b[0;32m     28\u001b[0m \u001b[38;5;28;01mif\u001b[39;00m name \u001b[38;5;129;01mnot\u001b[39;00m \u001b[38;5;129;01min\u001b[39;00m _not_importable:\n\u001b[0;32m     29\u001b[0m     \u001b[38;5;28;01mtry\u001b[39;00m:\n\u001b[1;32m---> 30\u001b[0m         \u001b[38;5;28;01mreturn\u001b[39;00m \u001b[43mimport_module\u001b[49m\u001b[43m(\u001b[49m\u001b[43mname\u001b[49m\u001b[43m)\u001b[49m\n\u001b[0;32m     31\u001b[0m     \u001b[38;5;28;01mexcept\u001b[39;00m \u001b[38;5;167;01mImportError\u001b[39;00m:\n\u001b[0;32m     32\u001b[0m         _not_importable\u001b[38;5;241m.\u001b[39madd(name)\n",
      "File \u001b[1;32mc:\\Users\\Hong\\anaconda3\\Lib\\importlib\\__init__.py:126\u001b[0m, in \u001b[0;36mimport_module\u001b[1;34m(name, package)\u001b[0m\n\u001b[0;32m    124\u001b[0m             \u001b[38;5;28;01mbreak\u001b[39;00m\n\u001b[0;32m    125\u001b[0m         level \u001b[38;5;241m+\u001b[39m\u001b[38;5;241m=\u001b[39m \u001b[38;5;241m1\u001b[39m\n\u001b[1;32m--> 126\u001b[0m \u001b[38;5;28;01mreturn\u001b[39;00m \u001b[43m_bootstrap\u001b[49m\u001b[38;5;241;43m.\u001b[39;49m\u001b[43m_gcd_import\u001b[49m\u001b[43m(\u001b[49m\u001b[43mname\u001b[49m\u001b[43m[\u001b[49m\u001b[43mlevel\u001b[49m\u001b[43m:\u001b[49m\u001b[43m]\u001b[49m\u001b[43m,\u001b[49m\u001b[43m \u001b[49m\u001b[43mpackage\u001b[49m\u001b[43m,\u001b[49m\u001b[43m \u001b[49m\u001b[43mlevel\u001b[49m\u001b[43m)\u001b[49m\n",
      "File \u001b[1;32mc:\\Users\\Hong\\anaconda3\\Lib\\site-packages\\numpy\\__init__.py:127\u001b[0m\n\u001b[0;32m    124\u001b[0m     sys\u001b[38;5;241m.\u001b[39mstderr\u001b[38;5;241m.\u001b[39mwrite(\u001b[38;5;124m'\u001b[39m\u001b[38;5;124mRunning from numpy source directory.\u001b[39m\u001b[38;5;130;01m\\n\u001b[39;00m\u001b[38;5;124m'\u001b[39m)\n\u001b[0;32m    125\u001b[0m \u001b[38;5;28;01melse\u001b[39;00m:\n\u001b[0;32m    126\u001b[0m     \u001b[38;5;66;03m# Allow distributors to run custom init code before importing numpy.core\u001b[39;00m\n\u001b[1;32m--> 127\u001b[0m     \u001b[38;5;28;01mfrom\u001b[39;00m \u001b[38;5;21;01m.\u001b[39;00m \u001b[38;5;28;01mimport\u001b[39;00m _distributor_init\n\u001b[0;32m    129\u001b[0m     \u001b[38;5;28;01mtry\u001b[39;00m:\n\u001b[0;32m    130\u001b[0m         \u001b[38;5;28;01mfrom\u001b[39;00m \u001b[38;5;21;01mnumpy\u001b[39;00m\u001b[38;5;21;01m.\u001b[39;00m\u001b[38;5;21;01m__config__\u001b[39;00m \u001b[38;5;28;01mimport\u001b[39;00m show \u001b[38;5;28;01mas\u001b[39;00m show_config\n",
      "File \u001b[1;32mc:\\Users\\Hong\\anaconda3\\Lib\\site-packages\\numpy\\_distributor_init.py:14\u001b[0m\n\u001b[0;32m     12\u001b[0m \u001b[38;5;28;01mtry\u001b[39;00m:\n\u001b[0;32m     13\u001b[0m     \u001b[38;5;28;01mimport\u001b[39;00m \u001b[38;5;21;01mmkl\u001b[39;00m\n\u001b[1;32m---> 14\u001b[0m     __mkl_version__ \u001b[38;5;241m=\u001b[39m \u001b[38;5;124;43m\"\u001b[39;49m\u001b[38;5;132;43;01m{MajorVersion}\u001b[39;49;00m\u001b[38;5;124;43m.\u001b[39;49m\u001b[38;5;132;43;01m{MinorVersion}\u001b[39;49;00m\u001b[38;5;124;43m.\u001b[39;49m\u001b[38;5;132;43;01m{UpdateVersion}\u001b[39;49;00m\u001b[38;5;124;43m\"\u001b[39;49m\u001b[38;5;241;43m.\u001b[39;49m\u001b[43mformat\u001b[49m\u001b[43m(\u001b[49m\u001b[38;5;241;43m*\u001b[39;49m\u001b[38;5;241;43m*\u001b[39;49m\u001b[43mmkl\u001b[49m\u001b[38;5;241;43m.\u001b[39;49m\u001b[43mget_version\u001b[49m\u001b[43m(\u001b[49m\u001b[43m)\u001b[49m\u001b[43m)\u001b[49m\n\u001b[0;32m     15\u001b[0m \u001b[38;5;28;01mexcept\u001b[39;00m \u001b[38;5;167;01mImportError\u001b[39;00m:\n\u001b[0;32m     16\u001b[0m     \u001b[38;5;28;01mimport\u001b[39;00m \u001b[38;5;21;01mwarnings\u001b[39;00m\n",
      "\u001b[1;31mKeyboardInterrupt\u001b[0m: "
     ]
    }
   ],
   "source": [
    "#테마 설정\n",
    "import plotly.io as pio # plotly input output\n",
    "pio.templates.default = \"plotly_dark\"\n",
    "\n",
    "# import plotly.graph_objects as go # 디테일한 설정\n",
    "# import plotly.figure_factory as ff # 템플릿 불러오기\n",
    "from plotly.subplots import make_subplots # subplot 만들기\n",
    "from plotly.validators.scatter.marker import SymbolsrcValidator # Symbol 꾸미기 \n",
    "import pandas as pd\n",
    "import seaborn as sns\n",
    "import plotly.express as px # 빠르게 그리기"
   ]
  },
  {
   "cell_type": "code",
   "execution_count": 1,
   "metadata": {},
   "outputs": [
    {
     "ename": "NameError",
     "evalue": "name 'px' is not defined",
     "output_type": "error",
     "traceback": [
      "\u001b[1;31m---------------------------------------------------------------------------\u001b[0m",
      "\u001b[1;31mNameError\u001b[0m                                 Traceback (most recent call last)",
      "Cell \u001b[1;32mIn[1], line 7\u001b[0m\n\u001b[0;32m      1\u001b[0m \u001b[38;5;66;03m# 범주형 색상 지정\u001b[39;00m\n\u001b[0;32m      2\u001b[0m custom_color_map \u001b[38;5;241m=\u001b[39m {\n\u001b[0;32m      3\u001b[0m     \u001b[38;5;124m'\u001b[39m\u001b[38;5;124msetosa\u001b[39m\u001b[38;5;124m'\u001b[39m: \u001b[38;5;124m'\u001b[39m\u001b[38;5;124mblack\u001b[39m\u001b[38;5;124m'\u001b[39m,\n\u001b[0;32m      4\u001b[0m     \u001b[38;5;124m'\u001b[39m\u001b[38;5;124mversicolor\u001b[39m\u001b[38;5;124m'\u001b[39m: \u001b[38;5;124m'\u001b[39m\u001b[38;5;124mgreen\u001b[39m\u001b[38;5;124m'\u001b[39m,\n\u001b[0;32m      5\u001b[0m     \u001b[38;5;124m'\u001b[39m\u001b[38;5;124mvirginica\u001b[39m\u001b[38;5;124m'\u001b[39m: \u001b[38;5;124m'\u001b[39m\u001b[38;5;124mpurple\u001b[39m\u001b[38;5;124m'\u001b[39m\n\u001b[0;32m      6\u001b[0m }   \n\u001b[1;32m----> 7\u001b[0m fig \u001b[38;5;241m=\u001b[39m \u001b[43mpx\u001b[49m\u001b[38;5;241m.\u001b[39mscatter(df, x\u001b[38;5;241m=\u001b[39m\u001b[38;5;124m'\u001b[39m\u001b[38;5;124msepal_width\u001b[39m\u001b[38;5;124m'\u001b[39m, y\u001b[38;5;241m=\u001b[39m\u001b[38;5;124m'\u001b[39m\u001b[38;5;124msepal_length\u001b[39m\u001b[38;5;124m'\u001b[39m, color\u001b[38;5;241m=\u001b[39m\u001b[38;5;124m'\u001b[39m\u001b[38;5;124mspecies\u001b[39m\u001b[38;5;124m'\u001b[39m, color_discrete_map\u001b[38;5;241m=\u001b[39mcustom_color_map)\n\u001b[0;32m     10\u001b[0m \u001b[38;5;66;03m#연속형 색상 지정\u001b[39;00m\n\u001b[0;32m     11\u001b[0m fig \u001b[38;5;241m=\u001b[39m px\u001b[38;5;241m.\u001b[39mscatter(df, x\u001b[38;5;241m=\u001b[39m\u001b[38;5;124m'\u001b[39m\u001b[38;5;124msepal_width\u001b[39m\u001b[38;5;124m'\u001b[39m, y\u001b[38;5;241m=\u001b[39m\u001b[38;5;124m'\u001b[39m\u001b[38;5;124msepal_length\u001b[39m\u001b[38;5;124m'\u001b[39m, color\u001b[38;5;241m=\u001b[39m\u001b[38;5;124m'\u001b[39m\u001b[38;5;124mpetal_length\u001b[39m\u001b[38;5;124m'\u001b[39m,\n\u001b[0;32m     12\u001b[0m                  color_continuous_scale\u001b[38;5;241m=\u001b[39mpx\u001b[38;5;241m.\u001b[39mcolors\u001b[38;5;241m.\u001b[39msequential\u001b[38;5;241m.\u001b[39mViridis)\n",
      "\u001b[1;31mNameError\u001b[0m: name 'px' is not defined"
     ]
    }
   ],
   "source": [
    "# 범주형 색상 지정\n",
    "custom_color_map = {\n",
    "    'setosa': 'black',\n",
    "    'versicolor': 'green',\n",
    "    'virginica': 'purple'\n",
    "}   \n",
    "fig = px.scatter(df, x='sepal_width', y='sepal_length', color='species', color_discrete_map=custom_color_map)\n",
    "\n",
    "\n",
    "#연속형 색상 지정\n",
    "fig = px.scatter(df, x='sepal_width', y='sepal_length', color='petal_length',\n",
    "                 color_continuous_scale=px.colors.sequential.Viridis)\n",
    "\n",
    "#사용자 지정 색상 스케일 만들기 ( 연속형 )\n",
    "\n",
    "custom_color_scale = [\n",
    "    (0.0, \"red\"),\n",
    "    (0.5, \"yellow\"),\n",
    "    (1.0, \"green\")\n",
    "]\n",
    "\n",
    "# 산점도 그래프 생성, 사용자 지정 색상 스케일 적용\n",
    "fig = px.scatter(df, x='sepal_width', y='sepal_length', color='petal_length',\n",
    "                 color_continuous_scale=custom_color_scale)\n",
    "\n",
    "\n",
    "# 범례에서 사용자 지정 색상 순서\n",
    "category_orders = {\n",
    "    'species': ['versicolor', 'virginica', 'setosa']\n",
    "}\n",
    "\n",
    "# 사용자 지정 색상 맵\n",
    "custom_color_map = {\n",
    "    'setosa': 'red',\n",
    "    'versicolor': 'green',\n",
    "    'virginica': 'blue'\n",
    "}\n",
    "\n",
    "# 산점도 그래프 생성\n",
    "fig = px.scatter(df, x='sepal_width', y='sepal_length', color='species',    \n",
    "                 category_orders=category_orders,\n",
    "                 color_discrete_map=custom_color_map)\n"
   ]
  },
  {
   "cell_type": "code",
   "execution_count": null,
   "metadata": {},
   "outputs": [],
   "source": [
    "fig1 = px.그래프명(tips, # 데이터명(데이터프레임 형식)\n",
    "                 x='tip', # x축에 들어갈 컬럼\n",
    "                 y='total_bill', # y축에 들어갈 컬럼\n",
    "                 color='sex', # 색상 구분 기준이 될 컬럼명 (seaborn의 hue와 같은 역할)\n",
    "                 size='tip', # tip 에 따라 크기를 변화\n",
    "                 marginal_x = 'box', # scatterplot의 옵션 중 하나인 인접 그래프의 스타일 지정 (박스) \n",
    "                 marginal_y = 'histogram',# scatterplot의 옵션 중 하나인 인접 그래프의 스타일 지정 (히스토그램) \n",
    "                 trendline=\"ols\",  # x축과 y축으로 지정된 데이터에 대해서 회귀분석(ols로)\n",
    "                 trendline_color_override=\"grey\",  # trendline 색상 지정\n",
    "                 hover_name='day', # 팝업 데이터 최상단에 데이터프레임 컬럼명             \n",
    "                 hover_data=['day', 'size'], # 참고할 데이터 추가 - tips.columns로 설정하면 다 보여줌 \n",
    "                 title='Tips by Total Bill - Scatter Plot', # 그래프 타이틀 지정\n",
    "                 facet_col='day', #day 기준으로 분할\n",
    "                 log_x =True, # 대소비교하기\n",
    "                 width=800,  # 그래프의 크기 조절\n",
    "                 height=600,\n",
    "                 opacity = .5  # 투명도\n",
    "                 )\n",
    "\n",
    "\n",
    "\n",
    "fig = px.line(samsung,\n",
    "              x=\"Date\",\n",
    "              y=\"Close\",\n",
    "              hover_name='Date',\n",
    "              range_x=['2020-01-01', '2022-03-29'], #범위 설정하기\n",
    "              title='samsung')\n",
    "\n",
    "\n",
    "\n",
    "fig = px.bar(Asia, x='country', y='lifeExp', color='country',\n",
    "             animation_frame='year', #경과기준\n",
    "             animation_group='country', #경과에 따라 바뀔 컬럼\n",
    "             title='Life expectancy in Asia',\n",
    "             range_y=[28 ,100.603000]) #범위 설정 \n",
    "fig.show()\n",
    "\n",
    "\n",
    "\n",
    "fig = px.histogram(tips,\n",
    "                   x='total_bill',\n",
    "                   color='sex',\n",
    "                   nbins=20, # 20개 묶음\n",
    "                   opacity=0.6, #투명도 설정\n",
    "                   color_discrete_sequence=['red', 'blue']) #컬러 각각 지정 \n",
    "\n",
    "\n",
    "\n",
    "canada = gapminder[gapminder['country']=='Canada'] \n",
    "fig = px.bar(canada, \n",
    "              x='year', \n",
    "              y='pop', \n",
    "              hover_data=['gdpPercap', 'lifeExp'],\n",
    "              color='lifeExp', #기대 수명에 따른 색 변화\n",
    "              #orientation='h' #가로로 돌리기\n",
    "              title='Life expectancy in Canada',\n",
    "              width=600, height=600,\n",
    "             labels={'pop':'population of Canada for y', 'year':'year for x'}\n",
    "              )"
   ]
  },
  {
   "cell_type": "code",
   "execution_count": null,
   "metadata": {},
   "outputs": [],
   "source": [
    "fig.show(config={'modeBarButtonsToAdd':['drawline',#그리기 기능 넣기\n",
    "                                        'drawopenpath',\n",
    "                                        'drawclosedpath',\n",
    "                                        'drawcircle',\n",
    "                                        'drawrect',\n",
    "                                        'eraseshape'\n",
    "                                       ]})\n",
    "\n",
    "\n",
    "fig.update_layout(title_x = .5, font_family = 'Segoe Print', width = 700,\n",
    "                  height = 500, font_size = 15)\n",
    "\n",
    "fig.update_xaxes(title_standoff = 50)\n",
    "fig.update_yaxes(title_standoff = 50, tickangle = 45)\n",
    "\n",
    "fig.update_xaxes(showgrid=True, minor_showgrid=True, gridcolor = 'black')\n",
    "fig.update_yaxes(showgrid=True, minor_showgrid=True)"
   ]
  },
  {
   "cell_type": "markdown",
   "metadata": {},
   "source": [
    "--Plotly treemap"
   ]
  },
  {
   "cell_type": "code",
   "execution_count": null,
   "metadata": {},
   "outputs": [],
   "source": [
    "# df = gapminder[gapminder['year']==2007 & gapminder['continent']=='Americas']\n",
    "df = px.data.gapminder().query(\"year == 2007\") #query로 위 과정을 간략히 할 수있다.\n",
    "fig = px.treemap(df,\n",
    "                 path=[px.Constant(\"all\t\"),'continent','country'], \n",
    "                 values='lifeExp', #values 정렬 기준\n",
    "                 color='lifeExp',\n",
    "                 labels={'lifeExp':'기대수명'}) #라벨링\n",
    "fig.update_layout(margin = dict(t=50, l=25, r=25, b=25)) #위 왼 오 아래 여백 지정\n",
    "fig.show()"
   ]
  },
  {
   "cell_type": "markdown",
   "metadata": {},
   "source": [
    "웹 크롤링"
   ]
  },
  {
   "cell_type": "markdown",
   "metadata": {},
   "source": [
    "네이버\n",
    "import os\n",
    "import sys\n",
    "import urllib.request\n",
    "import json\n",
    "import pandas as pd\n",
    "def getresult(client_id,client_secret,query,display=10,start=1,sort='sim'):\n",
    "    encText = urllib.parse.quote(query)\n",
    "    url = \"https://openapi.naver.com/v1/search/blog?query=\" + encText + \\  \n",
    "    \"&display=\" + str(display) + \"&start=\" + str(start) + \"&sort=\" + sort\n",
    "# url = \"https://openapi.naver.com/v1/search/blog.xml?query=\" + encText \\\n",
    "    # \"&display=\" + str(display) + \"&start=\" + str(start) + \"&sort=\" + sort  xml 결과\n",
    "    request = urllib.request.Request(url)\n",
    "    request.add_header(\"X-Naver-Client-Id\",client_id)\n",
    "    request.add_header(\"X-Naver-Client-Secret\",client_secret)\n",
    "    response = urllib.request.urlopen(request)\n",
    "    rescode = response.getcode()\n",
    "    if(rescode==200):\n",
    "        response_body = response.read()\n",
    "        response_json = json.loads(response_body)\n",
    "    else:\n",
    "        print(\"Error Code:\" + rescode)\n",
    "\n",
    "    return pd.DataFrame(response_json['items'])\n",
    "\n",
    "client_id = \"IfaUFMdpnoeS4Kdtzb1R\"\n",
    "client_secret = \"eAdzXD8iBG\"\n",
    "query = '홍대입구역 맛집'\n",
    "display=100\n",
    "start=1\n",
    "sort='sim'\n",
    "\n",
    "result_all=pd.DataFrame()\n",
    "for i in range(0,2):\n",
    "    start= 1 + 100*i\n",
    "    result= getresult(client_id,client_secret,query,display,start,sort)\n",
    "    \n",
    "    result_all=pd.concat([result_all,result])"
   ]
  },
  {
   "cell_type": "markdown",
   "metadata": {},
   "source": [
    "네이버 뉴스 스크래핑\n",
    "\n",
    "import requests\n",
    "from bs4 import BeautifulSoup\n",
    "\n",
    "def get_naver_news_titles():\n",
    "    url = 'https://news.naver.com/main/ranking/popularDay.naver'\n",
    "    response = requests.get(url)\n",
    "    response.raise_for_status()\n",
    "\n",
    "    soup = BeautifulSoup(response.text, 'html.parser')\n",
    "    news_titles = []  # 뉴스 제목을 저장할 리스트\n",
    "    div_index = 1\n",
    "    \n",
    "    while True: \n",
    "        li_index = 1\n",
    "        while True:\n",
    "            selector = f'#wrap > div.rankingnews._popularWelBase._persist > div.rankingnews_box_wrap._popularRanking > div > div:nth-child({div_index}) > ul > li:nth-child({li_index}) > div > a'\n",
    "            news_title = soup.select_one(selector)\n",
    "            \n",
    "            if news_title:\n",
    "                news_titles.append(news_title.text.strip())  # 제목을 리스트에 추가\n",
    "                li_index += 1\n",
    "            else:\n",
    "                break\n",
    "        \n",
    "        div_index += 1\n",
    "        if soup.select_one(f'#wrap > div.rankingnews._popularWelBase._persist > div.rankingnews_box_wrap._popularRanking > div > div:nth-child({div_index})'):\n",
    "            continue\n",
    "        else:\n",
    "            break\n",
    "\n",
    "    return news_titles  # 리스트 반환\n",
    "\n",
    "if __name__ == '__main__':\n",
    "    titles = get_naver_news_titles()\n",
    "    for idx, title in enumerate(titles, 1):\n",
    "        print(f\"{idx}. {title}\")  # 뉴스 제목 출력\n"
   ]
  },
  {
   "cell_type": "markdown",
   "metadata": {},
   "source": [
    "공공 데이터포털 API 활용 크롤링\n",
    "import requests\n",
    "import pandas as pd\n",
    "\n",
    "# 발급받은 API 키\n",
    "api_key = '2CGGfCCxYUKw%2FCLgS2z26RYvp%2BIFowLHL24iCF8hDVThaIbj7MC0C0dTGqEXqPgmuhRyg88uoGWyVnYkbcYZfg%3D%3D'\n",
    "\n",
    "# API 요청 URL 기본 템플릿 (API 문서에서 확인한 URL로 변경해야 합니다)\n",
    "base_url = 'https://api.odcloud.kr/api/15060386/v1/uddi:9951ec3f-d1c9-49e8-9ed4-f026c39a7925'\n",
    "\n",
    "# 요청할 페이지 수와 한 페이지당 행 수\n",
    "total_pages = 100  # 요청할 페이지 수 (필요에 따라 조절)\n",
    "rows_per_page = 1000  # 한 페이지당 데이터 수\n",
    "\n",
    "# 빈 리스트 생성 (모든 데이터를 저장할 리스트)\n",
    "all_data = []\n",
    "\n",
    "# 각 페이지에 대해 반복하여 요청\n",
    "for page in range(1, total_pages + 1):\n",
    "    # 요청 URL 생성 (API 문서에서 제공하는 형식으로 조정해야 합니다)\n",
    "    url = f'{base_url}?serviceKey={api_key}&page={page}&perPage={rows_per_page}'\n",
    "    \n",
    "    # API 요청 보내기\n",
    "    response = requests.get(url)\n",
    "    \n",
    "    # 응답 확인\n",
    "    if response.status_code == 200:\n",
    "        # JSON 파싱\n",
    "        json_to_dict = response.json()\n",
    "        \n",
    "        # 데이터가 'data'에 있는 경우\n",
    "        items = json_to_dict.get('data', [])\n",
    "        \n",
    "        # 데이터를 all_data 리스트에 추가\n",
    "        all_data.extend(items)\n",
    "    else:\n",
    "        print(f\"Error: {response.status_code} on page {page}\")\n",
    "\n",
    "# DataFrame으로 변환\n",
    "df_2023 = pd.DataFrame(all_data)\n",
    "\n",
    "# 출력\n",
    "print(df_2023)"
   ]
  },
  {
   "cell_type": "markdown",
   "metadata": {},
   "source": [
    "API 공공데이터 여러개 한번에 \n",
    "import requests\n",
    "import pandas as pd\n",
    "\n",
    "api_key = '2CGGfCCxYUKw%2FCLgS2z26RYvp%2BIFowLHL24iCF8hDVThaIbj7MC0C0dTGqEXqPgmuhRyg88uoGWyVnYkbcYZfg%3D%3D'\n",
    "\n",
    "# 기본 URL 및 엔드포인트 리스트\n",
    "base_url = 'https://api.odcloud.kr/api/15060386/'\n",
    "\n",
    "url_list = [\n",
    "    'v1/uddi:9951ec3f-d1c9-49e8-9ed4-f026c39a7925',\n",
    "    'v1/uddi:cb73d6d5-064c-4dd2-a136-8c3069aa1fe2',\n",
    "    'v1/uddi:dd407ff5-f23a-4d46-b90b-dc37505fb02c',\n",
    "    'v1/uddi:bd8a7575-d4c9-4a22-a972-fac12348dd7e',\n",
    "    'v1/uddi:65991a70-9fcf-40c3-ad3a-ee24b401c56a',\n",
    "    'v1/uddi:08f09298-4bae-41a7-a315-c1421a1d418b',\n",
    "    'v1/uddi:52bbace2-f0c1-46c9-9057-c31731da9b30',\n",
    "    'v1/uddi:d832fa12-7b66-4058-beae-e23267270a05',\n",
    "    'v1/uddi:1e3d031d-8650-45db-9daf-bb742cfbb83c'\n",
    "]\n",
    "\n",
    "total_pages_list = [39, 41, 37, 39, 41, 43, 45, 44, 45]\n",
    "rows_per_page = 1000  # 한 페이지당 데이터 수\n",
    "\n",
    "# 시작 연도 지정 (2023년부터 시작)\n",
    "start_year = 2023\n",
    "\n",
    "# URL 리스트와 페이지 리스트를 이중 for문으로 순회\n",
    "for endpoint, total_pages in zip(url_list, total_pages_list):\n",
    "    all_data = []  # 각 연도별 데이터를 저장할 리스트\n",
    "    \n",
    "    for page in range(1, total_pages + 1):\n",
    "        # 요청 URL 생성\n",
    "        request_url = f'{base_url}{endpoint}?serviceKey={api_key}&page={page}&perPage={rows_per_page}'\n",
    "        \n",
    "        # API 요청 보내기\n",
    "        response = requests.get(request_url)\n",
    "        \n",
    "        # 응답 확인\n",
    "        if response.status_code == 200:\n",
    "            # JSON 파싱\n",
    "            json_to_dict = response.json()\n",
    "            \n",
    "            # 데이터가 'data'에 있는 경우\n",
    "            items = json_to_dict.get('data', [])\n",
    "            \n",
    "            # 데이터를 all_data 리스트에 추가\n",
    "            all_data.extend(items)\n",
    "        else:\n",
    "            print(f\"Error: {response.status_code} on page {page} for URL {endpoint}\")\n",
    "    \n",
    "    # DataFrame으로 변환\n",
    "    df = pd.DataFrame(all_data)\n",
    "    \n",
    "    # 동적으로 테이블명 생성 및 할당\n",
    "    table_name = f'dt_{start_year}'\n",
    "    globals()[table_name] = df  # globals()를 사용해 변수 생성\n",
    "    \n",
    "    # CSV 파일로 저장\n",
    "    df.to_csv(f'{table_name}.csv', index=False, encoding='ms949')\n",
    "    \n",
    "    # 다음 연도로 이동\n",
    "    start_year -= 1\n",
    "\n",
    "# 생성된 DataFrame 출력 예시 (원하는 경우)\n",
    "print(dt_2023.head())"
   ]
  },
  {
   "cell_type": "markdown",
   "metadata": {},
   "source": [
    "OPEN API Craw\n",
    "\n",
    "def get_product(KEY, FINGROUP, PAGE) : \n",
    "  import requests\n",
    "  from bs4 import BeautifulSoup\n",
    "  from lxml import html\n",
    "  from urllib.request import Request, urlopen\n",
    "  from urllib.parse import urlencode, quote_plus, unquote\n",
    "  \n",
    "  url = f'http://finlife.fss.or.kr/finlifeapi/creditLoanProductsSearch.xml?auth={KEY}&topFinGrpNo={FINGROUP}&pageNo={PAGE}'\n",
    "  response = requests.get(url).content.decode('euc-kr')\n",
    "  \n",
    "  xml_obj = BeautifulSoup(response, 'html.parser')\n",
    "  rows = xml_obj.findAll('product')\n",
    "  return rows\n",
    "\n",
    "\n",
    "  fin_grp_list = ['02000','030200','030300','050000','060000']\n",
    "\n",
    "KEY = 'fb425154e0944f7bfe243e7d124ce078' # 금융감독원 \n",
    "PAGE = 1\n",
    "\n",
    "item_list = ['dcls_month',\n",
    "             'fin_co_no',\n",
    "            'kor_co_nm',\n",
    "            'fin_prdt_nm',\n",
    "            'join_way',\n",
    "            'crdt_prdt_type_nm',\n",
    "            'cb_name',\n",
    "            'crdt_lend_rate_type',\n",
    "            'crdt_lend_rate_type_nm',\n",
    "            'crdt_grad_1',\n",
    "            'crdt_grad_4',\n",
    "            'crdt_grad_5',\n",
    "            'crdt_grad_6',\n",
    "            'crdt_grad_10',\n",
    "            'crdt_grad_11',\n",
    "            'crdt_grad_12',\n",
    "            'crdt_grad_13',\n",
    "            'crdt_grad_avg'\n",
    "            ]\n",
    "\n",
    "bank_savings_list = []  # 리스트를 밖에서 한 번만 초기화\n",
    "\n",
    "for grp in fin_grp_list:\n",
    "    products = get_product(KEY, grp, PAGE)  # 각 그룹에 해당하는 제품 목록 가져오기\n",
    "    \n",
    "    for product in products:\n",
    "        savings_product_list = []  # 각 제품마다 새로운 리스트 생성\n",
    "        \n",
    "        for i in item_list:\n",
    "            savings_info = ''  # 기본값 설정\n",
    "            try:\n",
    "                savings_info = product.find(i).text  # 해당 제품의 정보를 가져오기\n",
    "            except AttributeError:  # 특정 예외만 처리\n",
    "                pass  # 실패 시 기본값으로 빈 문자열 유지\n",
    "            \n",
    "            savings_product_list.append(savings_info)  # 가져온 정보 리스트에 추가\n",
    "            \n",
    "        bank_savings_list.append(savings_product_list)  # 최종 결과 리스트에 추가\n",
    "\n",
    "print(bank_savings_list)  # 결과 출력\n",
    "\n",
    "\n",
    "import pandas as pd \n",
    "df = pd.DataFrame(bank_savings_list,\n",
    "                  columns=['dcls_month',\n",
    "             'fin_co_no',\n",
    "            'kor_co_nm',\n",
    "            'fin_prdt_nm',\n",
    "            'join_way',\n",
    "            'crdt_prdt_type_nm',\n",
    "            'cb_name',\n",
    "            'crdt_lend_rate_type',\n",
    "            'crdt_lend_rate_type_nm',\n",
    "            'crdt_grad_1',\n",
    "            'crdt_grad_4',\n",
    "            'crdt_grad_5',\n",
    "            'crdt_grad_6',\n",
    "            'crdt_grad_10',\n",
    "            'crdt_grad_11',\n",
    "            'crdt_grad_12',\n",
    "            'crdt_grad_13',\n",
    "            'crdt_grad_avg'])"
   ]
  },
  {
   "cell_type": "markdown",
   "metadata": {},
   "source": [
    "--에라토스테네스의 체"
   ]
  },
  {
   "cell_type": "code",
   "execution_count": null,
   "metadata": {},
   "outputs": [],
   "source": [
    "# 소수 구하기\n",
    "def solution(n):\n",
    "    num=set(range(2,n+1))\n",
    "\n",
    "    for i in range(2,n+1):\n",
    "        if i in num:\n",
    "            num-=set(range(2*i,n+1,i))\n",
    "    return len(num)"
   ]
  },
  {
   "cell_type": "markdown",
   "metadata": {},
   "source": [
    "컬럼 소문자로 바꾸기"
   ]
  },
  {
   "cell_type": "code",
   "execution_count": 1,
   "metadata": {},
   "outputs": [],
   "source": [
    "# from ipypb import ipb\n",
    "# train.columns = [train.columns[i].lower() for i in ipb(range(len(train.columns)))]"
   ]
  },
  {
   "cell_type": "markdown",
   "metadata": {},
   "source": [
    "유클리드 호제법"
   ]
  },
  {
   "cell_type": "markdown",
   "metadata": {},
   "source": [
    "두 개의 자연수에 대한 최대 공약수를 구하는 대표적인 알고리즘\n",
    "유클리드 호제법 : 두 자연수 A, B에 대하여 (A>B) A를 B로 나눈 나머지를 R이라고 할 때 A, B의 최대공약수는 B와 R의 최대공약수와 같다"
   ]
  },
  {
   "cell_type": "code",
   "execution_count": null,
   "metadata": {},
   "outputs": [],
   "source": [
    "def gcd(n, m):\n",
    "    if n%m == 0:\n",
    "        return m\n",
    "    else:\n",
    "        return gcd(m, n%m)\n",
    "    \n",
    "def solution(n, m):\n",
    "    answer = [gcd(m, n), n*m // gcd(m,n)]\n",
    "    return answer"
   ]
  },
  {
   "cell_type": "markdown",
   "metadata": {},
   "source": [
    "소수 판별기, 소수 만들기"
   ]
  },
  {
   "cell_type": "markdown",
   "metadata": {},
   "source": [
    "from itertools import combinations          # 중복허용(X), 순서의미(O) 인 조합을 import\n",
    "\n",
    "\"\"\"소수 판별 함수\"\"\"\n",
    "def is_prime_number(num):\n",
    "    if num==0 or num==1:\n",
    "        return False\n",
    "    else:\n",
    "        for n in range(2, (num//2)+1):      # math를 사용하지 않고 (num//2)+1 까지로 설정\n",
    "            if num%n == 0:\n",
    "                return False\n",
    "        \n",
    "        return True\n",
    "\n",
    "def solution(nums):\n",
    "    answer = 0\n",
    "    cmb = list(combinations(nums,3))        # nums배열을 3개씩 조합 후 list로 변경\n",
    "    for arr in cmb:\n",
    "        if is_prime_number(sum(arr)):       # cmb를 하나씩 가져와 sum한 값을 소수 판별 함수로 넘겨줌\n",
    "            answer += 1                     # return 값이 True이면 count(=answer) +1\n",
    "    \n",
    "    return answer\n",
    "\n",
    "\n",
    "print(solution([1,2,7,6,4]))"
   ]
  },
  {
   "cell_type": "markdown",
   "metadata": {},
   "source": [
    "피보나치 수열"
   ]
  },
  {
   "cell_type": "markdown",
   "metadata": {},
   "source": [
    "def fibonacci_dynamic(n):\n",
    "    if n <= 1:\n",
    "        return n\n",
    "\n",
    "    fib = [0] * (n + 1)\n",
    "    fib[1] = 1\n",
    "\n",
    "    for i in range(2, n + 1):\n",
    "        fib[i] = fib[i - 1] + fib[i - 2]\n",
    "\n",
    "    return fib[n]\n",
    "\n",
    "\n",
    "print(fibonacci_dynamic(10)) "
   ]
  },
  {
   "cell_type": "markdown",
   "metadata": {},
   "source": [
    "Bubble Sort"
   ]
  },
  {
   "cell_type": "markdown",
   "metadata": {},
   "source": [
    "def optimized_bubble_sort(arr):\n",
    "    n = len(arr)\n",
    "    for i in range(n):\n",
    "        swapped = False\n",
    "        for j in range(0, n-i-1):\n",
    "            if arr[j] > arr[j+1]:\n",
    "                arr[j], arr[j+1] = arr[j+1], arr[j]\n",
    "                swapped = True\n",
    "        if not swapped:\n",
    "            break\n",
    "\n"
   ]
  },
  {
   "cell_type": "markdown",
   "metadata": {},
   "source": [
    "초기 상태: 배열의 처음부터 끝까지 순회를 시작합니다.\n",
    "비교 및 교환: 현재 원소와 바로 다음에 있는 원소를 비교합니다. 정렬하려는 순서(오름차순 또는 내림차순)에 따라, 현재 원소가 다음 원소보다 크거나(오름차순 정렬) 작다면(내림차순 정렬), 두 원소의 위치를 교환합니다.\n",
    "반복: 배열의 모든 원소에 대해 이 과정을 반복합니다. 한 번의 순회로 가장 큰(또는 가장 작은) 원소가 배열의 끝으로 이동하게 됩니다.\n",
    "완료 조건: 배열에 더 이상 교환할 원소가 없을 때까지, 또는 정렬이 완료될 때까지 전체 과정을 반복합니다."
   ]
  },
  {
   "cell_type": "markdown",
   "metadata": {},
   "source": [
    "Selection Sort"
   ]
  },
  {
   "cell_type": "markdown",
   "metadata": {},
   "source": [
    "최소값 탐색: 배열 전체에서 최소값을 탐색합니다.\n",
    "스왑(swap): 최소값을 배열의 현재 위치와 교체합니다. 처음에는 배열의 첫 번째 위치에서 시작합니다.\n",
    "다음 위치로 이동: 현재 위치를 한 칸 옮기고 남은 배열에 대해 최소값을 다시 탐색합니다.\n",
    "반복: 위의 과정을 배열의 모든 요소가 올바르게 정렬될 때까지 반복합니다."
   ]
  },
  {
   "cell_type": "markdown",
   "metadata": {},
   "source": [
    "def selection_sort(arr):\n",
    "    n = len(arr)\n",
    "    for i in range(n):\n",
    "        min_idx = i\n",
    "        for j in range(i+1, n):\n",
    "            if arr[j] < arr[min_idx]:\n",
    "                min_idx = j\n",
    "        arr[i], arr[min_idx] = arr[min_idx], arr[i]\n",
    "    return arr"
   ]
  },
  {
   "cell_type": "markdown",
   "metadata": {},
   "source": [
    "Insert Sort"
   ]
  },
  {
   "cell_type": "markdown",
   "metadata": {},
   "source": [
    "배열의 두 번째 요소부터 시작하여, 해당 요소가 삽입될 적절한 위치를 이미 정렬된 배열 부분에서 찾습니다.\n",
    "선택된 요소를 그보다 큰 모든 요소 뒤로 이동시킨 후, 적절한 위치에 삽입합니다.\n",
    "배열의 모든 요소가 이 과정을 거쳐 적절히 정렬될 때까지 이 과정을 반복합니다."
   ]
  },
  {
   "cell_type": "markdown",
   "metadata": {},
   "source": [
    "def insertion_sort(arr):\n",
    "    for i in range(1, len(arr)):\n",
    "        key = arr[i]\n",
    "        j = i-1\n",
    "        while j >= 0 and key < arr[j]:\n",
    "            arr[j + 1] = arr[j]\n",
    "            j -= 1\n",
    "        arr[j + 1] = key\n",
    "\n",
    "# 예시 배열\n",
    "arr = [12, 11, 13, 5, 6]\n",
    "insertion_sort(arr)\n",
    "print(\"정렬된 배열:\", arr)"
   ]
  },
  {
   "cell_type": "markdown",
   "metadata": {},
   "source": [
    "Quick Sort"
   ]
  },
  {
   "cell_type": "markdown",
   "metadata": {},
   "source": [
    "피벗 선택: 배열에서 하나의 요소를 피벗으로 선택합니다. 피벗 선택 방법은 다양하지만, 간단한 방법으로는 첫 번째 요소, 마지막 요소, 중간 요소 또는 무작위 요소를 선택할 수 있습니다.\n",
    "분할: 선택된 피벗을 기준으로 배열을 두 부분으로 나눕니다. 피벗보다 작은 모든 요소는 피벗의 왼쪽에, 피벗보다 큰 모든 요소는 피벗의 오른쪽에 오도록 합니다. 이 과정에서 피벗은 최종적으로 정렬된 위치에 있게 됩니다.\n",
    "정복: 피벗을 제외한 왼쪽 부분과 오른쪽 부분 각각에 대해 재귀적으로 위의 과정을 반복합니다.\n",
    "결합: 퀵 정렬은 분할 시 요소들이 이미 정렬되는 방식이므로, 별도의 결합 과정이 필요 없습니다"
   ]
  },
  {
   "cell_type": "markdown",
   "metadata": {},
   "source": [
    "def quickSort(arr):\n",
    "    if len(arr) <= 1:\n",
    "        return arr\n",
    "    pivot = arr[len(arr) // 2]\n",
    "    left = [x for x in arr if x < pivot]\n",
    "    middle = [x for x in arr if x == pivot]\n",
    "    right = [x for x in arr if x > pivot]\n",
    "    return quickSort(left) + middle + quickSort(right)\n",
    "\n",
    "# 예시 배열\n",
    "arr = [3, 6, 8, 10, 1, 2, 1]\n",
    "sorted_arr = quickSort(arr)\n",
    "print(\"정렬된 배열:\", sorted_arr)"
   ]
  },
  {
   "cell_type": "markdown",
   "metadata": {},
   "source": [
    "Merge Sort"
   ]
  },
  {
   "cell_type": "markdown",
   "metadata": {},
   "source": [
    "병합 정렬은 다음과 같은 과정으로 이루어집니다:\n",
    "1. 분할(Divide): 정렬되지 않은 리스트를 계속해서 절반으로 나누어, 각 부분 리스트의 크기가 1이 될 때까지 분할합니다.\n",
    "2. 정복(Conquer): 각각의 부분 리스트를 재귀적으로 정렬합니다.\n",
    "3. 결합(Merge): 정렬된 부분 리스트들을 하나의 정렬된 리스트로 합치는 과정입니다.\n",
    "\n"
   ]
  },
  {
   "cell_type": "markdown",
   "metadata": {},
   "source": [
    "def merge_sort(arr):\n",
    "    if len(arr) > 1:\n",
    "        mid = len(arr)//2\n",
    "        L = arr[:mid]\n",
    "        R = arr[mid:]\n",
    "\n",
    "        merge_sort(L)\n",
    "        merge_sort(R)\n",
    "\n",
    "        i = j = k = 0\n",
    "\n",
    "        while i < len(L) and j < len(R):\n",
    "            if L[i] < R[j]:\n",
    "                arr[k] = L[i]\n",
    "                i += 1\n",
    "            else:\n",
    "                arr[k] = R[j]\n",
    "                j += 1\n",
    "            k += 1\n",
    "\n",
    "        while i < len(L):\n",
    "            arr[k] = L[i]\n",
    "            i += 1\n",
    "            k += 1\n",
    "\n",
    "        while j < len(R):\n",
    "            arr[k] = R[j]\n",
    "            j += 1\n",
    "            k += 1\n",
    "\n",
    "    return arr\n",
    "\n",
    "# 예시 데이터를 사용한 정렬\n",
    "arr = [38, 27, 43, 3, 9, 82, 10]\n",
    "sorted_arr = merge_sort(arr)\n",
    "print(sorted_arr)"
   ]
  },
  {
   "cell_type": "markdown",
   "metadata": {},
   "source": [
    "Count Sort"
   ]
  },
  {
   "cell_type": "markdown",
   "metadata": {},
   "source": [
    "def counting_sort(arr):\n",
    "    max_arr = max(arr)\n",
    "    count = [0] * (max_arr + 1)\n",
    "    sorted_arr = list()\n",
    "    \n",
    "    for i in arr:\t# 카운팅\n",
    "        count[i] += 1\n",
    "\n",
    "    for i in range(max_arr + 1):\n",
    "        for _ in range(count[i]):\n",
    "            sorted_arr.append(i)\n",
    "    return sorted_arr"
   ]
  },
  {
   "cell_type": "markdown",
   "metadata": {},
   "source": [
    "def counting_sort(arr):\n",
    "    count = dict()\n",
    "    sorted_arr = list()\n",
    "    \n",
    "    for i in arr:\n",
    "        if i in count:\n",
    "            count[i] += 1\n",
    "        else:\n",
    "            count[i] = 1\n",
    "\n",
    "    for i in sorted(count.keys()):\n",
    "        for _ in range(count[i]):\n",
    "            sorted_arr.append(i)\n",
    "    return sorted_arr"
   ]
  },
  {
   "cell_type": "code",
   "execution_count": null,
   "metadata": {},
   "outputs": [],
   "source": [
    "#EDA REPORT\n",
    "import sweetviz as sv\n",
    "report = sv.analyze(df)\n",
    "report.show_html('report.html')"
   ]
  }
 ],
 "metadata": {
  "kernelspec": {
   "display_name": "Python 3 (ipykernel)",
   "language": "python",
   "name": "python3"
  },
  "language_info": {
   "codemirror_mode": {
    "name": "ipython",
    "version": 3
   },
   "file_extension": ".py",
   "mimetype": "text/x-python",
   "name": "python",
   "nbconvert_exporter": "python",
   "pygments_lexer": "ipython3",
   "version": "3.11.7"
  }
 },
 "nbformat": 4,
 "nbformat_minor": 4
}
