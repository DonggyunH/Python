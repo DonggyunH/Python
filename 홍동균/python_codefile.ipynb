{
 "cells": [
  {
   "cell_type": "markdown",
   "metadata": {},
   "source": [
    "--폰트 설정"
   ]
  },
  {
   "cell_type": "code",
   "execution_count": 3,
   "metadata": {},
   "outputs": [
    {
     "data": {
      "text/plain": [
       "'HYGothic-Extra'"
      ]
     },
     "execution_count": 3,
     "metadata": {},
     "output_type": "execute_result"
    }
   ],
   "source": [
    "import matplotlib as mpl\n",
    "from matplotlib import font_manager\n",
    "font_location = 'C:\\\\Windows\\\\Fonts\\\\H2GTRE.TTF' # For Windows\n",
    "# font_location = 'C:/Users/Hong/AppData/Local/Microsoft/Windows/Fonts/SCDream6.otf' # For Windows\n",
    "font_name = mpl.font_manager.FontProperties(fname=font_location).get_name()\n",
    "mpl.rc('font', family=font_name)\n",
    "font_name"
   ]
  },
  {
   "cell_type": "markdown",
   "metadata": {},
   "source": [
    "-- 그래프 설정"
   ]
  },
  {
   "cell_type": "code",
   "execution_count": null,
   "metadata": {},
   "outputs": [],
   "source": [
    "#dark 모드\n",
    "plt.style.use('dark_background')\n",
    "# mpl.rcParams['text.color'] = 'white'\n",
    "\n",
    "# mpl.rcParams['axes.labelcolor'] = 'white'\n",
    "# mpl.rcParams['xtick.color'] = 'white'\n",
    "# mpl.rcParams['ytick.color'] = 'white'\n",
    "\n",
    "# mpl.rcParams['figure.facecolor'] = 'black'\n",
    "# mpl.rcParams['grid.color'] = 'gray'\n",
    "\n",
    "\n",
    "# 그 외 배경 \n",
    "mpl.rcParams['text.color'] = 'black'\n",
    "\n",
    "mpl.rcParams['axes.labelcolor'] = 'black'\n",
    "mpl.rcParams['xtick.color'] = 'black'\n",
    "mpl.rcParams['ytick.color'] = 'black'\n",
    "mpl.rcParams['grid.color'] = 'gray'\n",
    "# plt.style.use('dark_background')\n",
    "plt.style.use('Solarize_Light2')\n",
    "# plt.style.use('grayscale')\n",
    "# plt.style.use('seaborn-v0_8')\n",
    "# plt.style.use('seaborn-v0_8-dark-palette')\n",
    "\n",
    "\n",
    "\n",
    "mpl.rcParams['figure.figsize'] = (10,5)\n",
    "mpl.rcParams['axes.titlesize'] = 30\n",
    "mpl.rcParams['axes.labelsize'] = 30\n",
    "mpl.rcParams['legend.fontsize'] = 8\n",
    "mpl.rcParams['xtick.labelsize'] = 15\n",
    "mpl.rcParams['ytick.labelsize'] = 15\n",
    "# 그래프에 한글 설정\n",
    "# mpl.rcParams['font.family'] = 'HYGothic-Extra'\n",
    "# mpl.rcParams['font.family'] = 'Nanum Pen Script'\n",
    "\n",
    "# mpl.rcParams['font.family'] = 'Fira Code'\n",
    "mpl.rcParams['font.family'] = 'Harlow Solid Italic'\n",
    "# mpl.rcParams['font.family'] = 'S-Core Dream'\n",
    "# mpl.rcParams['font.family'] = 'Segoe Print'\n",
    "\n",
    "# 그래프에 마이너스 기호 깨지는 문제 해결\n",
    "mpl.rcParams['axes.unicode_minus'] = False"
   ]
  },
  {
   "cell_type": "markdown",
   "metadata": {},
   "source": [
    "--Plotly\n",
    "--https://velog.io/@sungrok7/Python-Day-13\n",
    "--https://wikidocs.net/187247"
   ]
  },
  {
   "cell_type": "code",
   "execution_count": 2,
   "metadata": {},
   "outputs": [
    {
     "ename": "KeyboardInterrupt",
     "evalue": "",
     "output_type": "error",
     "traceback": [
      "\u001b[1;31m---------------------------------------------------------------------------\u001b[0m",
      "\u001b[1;31mKeyboardInterrupt\u001b[0m                         Traceback (most recent call last)",
      "Cell \u001b[1;32mIn[2], line 6\u001b[0m\n\u001b[0;32m      3\u001b[0m pio\u001b[38;5;241m.\u001b[39mtemplates\u001b[38;5;241m.\u001b[39mdefault \u001b[38;5;241m=\u001b[39m \u001b[38;5;124m\"\u001b[39m\u001b[38;5;124mplotly_dark\u001b[39m\u001b[38;5;124m\"\u001b[39m\n\u001b[0;32m      5\u001b[0m \u001b[38;5;28;01mimport\u001b[39;00m \u001b[38;5;21;01mplotly\u001b[39;00m\u001b[38;5;21;01m.\u001b[39;00m\u001b[38;5;21;01mgraph_objects\u001b[39;00m \u001b[38;5;28;01mas\u001b[39;00m \u001b[38;5;21;01mgo\u001b[39;00m \u001b[38;5;66;03m# 디테일한 설정\u001b[39;00m\n\u001b[1;32m----> 6\u001b[0m \u001b[38;5;28;01mimport\u001b[39;00m \u001b[38;5;21;01mplotly\u001b[39;00m\u001b[38;5;21;01m.\u001b[39;00m\u001b[38;5;21;01mfigure_factory\u001b[39;00m \u001b[38;5;28;01mas\u001b[39;00m \u001b[38;5;21;01mff\u001b[39;00m \u001b[38;5;66;03m# 템플릿 불러오기\u001b[39;00m\n\u001b[0;32m      7\u001b[0m \u001b[38;5;28;01mfrom\u001b[39;00m \u001b[38;5;21;01mplotly\u001b[39;00m\u001b[38;5;21;01m.\u001b[39;00m\u001b[38;5;21;01msubplots\u001b[39;00m \u001b[38;5;28;01mimport\u001b[39;00m make_subplots \u001b[38;5;66;03m# subplot 만들기\u001b[39;00m\n\u001b[0;32m      8\u001b[0m \u001b[38;5;28;01mfrom\u001b[39;00m \u001b[38;5;21;01mplotly\u001b[39;00m\u001b[38;5;21;01m.\u001b[39;00m\u001b[38;5;21;01mvalidators\u001b[39;00m\u001b[38;5;21;01m.\u001b[39;00m\u001b[38;5;21;01mscatter\u001b[39;00m\u001b[38;5;21;01m.\u001b[39;00m\u001b[38;5;21;01mmarker\u001b[39;00m \u001b[38;5;28;01mimport\u001b[39;00m SymbolsrcValidator \u001b[38;5;66;03m# Symbol 꾸미기 \u001b[39;00m\n",
      "File \u001b[1;32mc:\\Users\\Hong\\anaconda3\\Lib\\site-packages\\plotly\\figure_factory\\__init__.py:6\u001b[0m\n\u001b[0;32m      3\u001b[0m \u001b[38;5;28;01mfrom\u001b[39;00m \u001b[38;5;21;01mplotly\u001b[39;00m \u001b[38;5;28;01mimport\u001b[39;00m optional_imports\n\u001b[0;32m      5\u001b[0m \u001b[38;5;66;03m# Require that numpy exists for figure_factory\u001b[39;00m\n\u001b[1;32m----> 6\u001b[0m np \u001b[38;5;241m=\u001b[39m \u001b[43moptional_imports\u001b[49m\u001b[38;5;241;43m.\u001b[39;49m\u001b[43mget_module\u001b[49m\u001b[43m(\u001b[49m\u001b[38;5;124;43m\"\u001b[39;49m\u001b[38;5;124;43mnumpy\u001b[39;49m\u001b[38;5;124;43m\"\u001b[39;49m\u001b[43m)\u001b[49m\n\u001b[0;32m      7\u001b[0m \u001b[38;5;28;01mif\u001b[39;00m np \u001b[38;5;129;01mis\u001b[39;00m \u001b[38;5;28;01mNone\u001b[39;00m:\n\u001b[0;32m      8\u001b[0m     \u001b[38;5;28;01mraise\u001b[39;00m \u001b[38;5;167;01mImportError\u001b[39;00m(\n\u001b[0;32m      9\u001b[0m \u001b[38;5;250m        \u001b[39m\u001b[38;5;124;03m\"\"\"\\\u001b[39;00m\n\u001b[0;32m     10\u001b[0m \u001b[38;5;124;03mThe figure factory module requires the numpy package\"\"\"\u001b[39;00m\n\u001b[0;32m     11\u001b[0m     )\n",
      "File \u001b[1;32mc:\\Users\\Hong\\anaconda3\\Lib\\site-packages\\_plotly_utils\\optional_imports.py:30\u001b[0m, in \u001b[0;36mget_module\u001b[1;34m(name, should_load)\u001b[0m\n\u001b[0;32m     28\u001b[0m \u001b[38;5;28;01mif\u001b[39;00m name \u001b[38;5;129;01mnot\u001b[39;00m \u001b[38;5;129;01min\u001b[39;00m _not_importable:\n\u001b[0;32m     29\u001b[0m     \u001b[38;5;28;01mtry\u001b[39;00m:\n\u001b[1;32m---> 30\u001b[0m         \u001b[38;5;28;01mreturn\u001b[39;00m \u001b[43mimport_module\u001b[49m\u001b[43m(\u001b[49m\u001b[43mname\u001b[49m\u001b[43m)\u001b[49m\n\u001b[0;32m     31\u001b[0m     \u001b[38;5;28;01mexcept\u001b[39;00m \u001b[38;5;167;01mImportError\u001b[39;00m:\n\u001b[0;32m     32\u001b[0m         _not_importable\u001b[38;5;241m.\u001b[39madd(name)\n",
      "File \u001b[1;32mc:\\Users\\Hong\\anaconda3\\Lib\\importlib\\__init__.py:126\u001b[0m, in \u001b[0;36mimport_module\u001b[1;34m(name, package)\u001b[0m\n\u001b[0;32m    124\u001b[0m             \u001b[38;5;28;01mbreak\u001b[39;00m\n\u001b[0;32m    125\u001b[0m         level \u001b[38;5;241m+\u001b[39m\u001b[38;5;241m=\u001b[39m \u001b[38;5;241m1\u001b[39m\n\u001b[1;32m--> 126\u001b[0m \u001b[38;5;28;01mreturn\u001b[39;00m \u001b[43m_bootstrap\u001b[49m\u001b[38;5;241;43m.\u001b[39;49m\u001b[43m_gcd_import\u001b[49m\u001b[43m(\u001b[49m\u001b[43mname\u001b[49m\u001b[43m[\u001b[49m\u001b[43mlevel\u001b[49m\u001b[43m:\u001b[49m\u001b[43m]\u001b[49m\u001b[43m,\u001b[49m\u001b[43m \u001b[49m\u001b[43mpackage\u001b[49m\u001b[43m,\u001b[49m\u001b[43m \u001b[49m\u001b[43mlevel\u001b[49m\u001b[43m)\u001b[49m\n",
      "File \u001b[1;32mc:\\Users\\Hong\\anaconda3\\Lib\\site-packages\\numpy\\__init__.py:127\u001b[0m\n\u001b[0;32m    124\u001b[0m     sys\u001b[38;5;241m.\u001b[39mstderr\u001b[38;5;241m.\u001b[39mwrite(\u001b[38;5;124m'\u001b[39m\u001b[38;5;124mRunning from numpy source directory.\u001b[39m\u001b[38;5;130;01m\\n\u001b[39;00m\u001b[38;5;124m'\u001b[39m)\n\u001b[0;32m    125\u001b[0m \u001b[38;5;28;01melse\u001b[39;00m:\n\u001b[0;32m    126\u001b[0m     \u001b[38;5;66;03m# Allow distributors to run custom init code before importing numpy.core\u001b[39;00m\n\u001b[1;32m--> 127\u001b[0m     \u001b[38;5;28;01mfrom\u001b[39;00m \u001b[38;5;21;01m.\u001b[39;00m \u001b[38;5;28;01mimport\u001b[39;00m _distributor_init\n\u001b[0;32m    129\u001b[0m     \u001b[38;5;28;01mtry\u001b[39;00m:\n\u001b[0;32m    130\u001b[0m         \u001b[38;5;28;01mfrom\u001b[39;00m \u001b[38;5;21;01mnumpy\u001b[39;00m\u001b[38;5;21;01m.\u001b[39;00m\u001b[38;5;21;01m__config__\u001b[39;00m \u001b[38;5;28;01mimport\u001b[39;00m show \u001b[38;5;28;01mas\u001b[39;00m show_config\n",
      "File \u001b[1;32mc:\\Users\\Hong\\anaconda3\\Lib\\site-packages\\numpy\\_distributor_init.py:14\u001b[0m\n\u001b[0;32m     12\u001b[0m \u001b[38;5;28;01mtry\u001b[39;00m:\n\u001b[0;32m     13\u001b[0m     \u001b[38;5;28;01mimport\u001b[39;00m \u001b[38;5;21;01mmkl\u001b[39;00m\n\u001b[1;32m---> 14\u001b[0m     __mkl_version__ \u001b[38;5;241m=\u001b[39m \u001b[38;5;124;43m\"\u001b[39;49m\u001b[38;5;132;43;01m{MajorVersion}\u001b[39;49;00m\u001b[38;5;124;43m.\u001b[39;49m\u001b[38;5;132;43;01m{MinorVersion}\u001b[39;49;00m\u001b[38;5;124;43m.\u001b[39;49m\u001b[38;5;132;43;01m{UpdateVersion}\u001b[39;49;00m\u001b[38;5;124;43m\"\u001b[39;49m\u001b[38;5;241;43m.\u001b[39;49m\u001b[43mformat\u001b[49m\u001b[43m(\u001b[49m\u001b[38;5;241;43m*\u001b[39;49m\u001b[38;5;241;43m*\u001b[39;49m\u001b[43mmkl\u001b[49m\u001b[38;5;241;43m.\u001b[39;49m\u001b[43mget_version\u001b[49m\u001b[43m(\u001b[49m\u001b[43m)\u001b[49m\u001b[43m)\u001b[49m\n\u001b[0;32m     15\u001b[0m \u001b[38;5;28;01mexcept\u001b[39;00m \u001b[38;5;167;01mImportError\u001b[39;00m:\n\u001b[0;32m     16\u001b[0m     \u001b[38;5;28;01mimport\u001b[39;00m \u001b[38;5;21;01mwarnings\u001b[39;00m\n",
      "\u001b[1;31mKeyboardInterrupt\u001b[0m: "
     ]
    }
   ],
   "source": [
    "#테마 설정\n",
    "import plotly.io as pio # plotly input output\n",
    "pio.templates.default = \"plotly_dark\"\n",
    "\n",
    "# import plotly.graph_objects as go # 디테일한 설정\n",
    "# import plotly.figure_factory as ff # 템플릿 불러오기\n",
    "from plotly.subplots import make_subplots # subplot 만들기\n",
    "from plotly.validators.scatter.marker import SymbolsrcValidator # Symbol 꾸미기 \n",
    "import pandas as pd\n",
    "import seaborn as sns\n",
    "import plotly.express as px # 빠르게 그리기"
   ]
  },
  {
   "cell_type": "code",
   "execution_count": 1,
   "metadata": {},
   "outputs": [
    {
     "ename": "NameError",
     "evalue": "name 'px' is not defined",
     "output_type": "error",
     "traceback": [
      "\u001b[1;31m---------------------------------------------------------------------------\u001b[0m",
      "\u001b[1;31mNameError\u001b[0m                                 Traceback (most recent call last)",
      "Cell \u001b[1;32mIn[1], line 7\u001b[0m\n\u001b[0;32m      1\u001b[0m \u001b[38;5;66;03m# 범주형 색상 지정\u001b[39;00m\n\u001b[0;32m      2\u001b[0m custom_color_map \u001b[38;5;241m=\u001b[39m {\n\u001b[0;32m      3\u001b[0m     \u001b[38;5;124m'\u001b[39m\u001b[38;5;124msetosa\u001b[39m\u001b[38;5;124m'\u001b[39m: \u001b[38;5;124m'\u001b[39m\u001b[38;5;124mblack\u001b[39m\u001b[38;5;124m'\u001b[39m,\n\u001b[0;32m      4\u001b[0m     \u001b[38;5;124m'\u001b[39m\u001b[38;5;124mversicolor\u001b[39m\u001b[38;5;124m'\u001b[39m: \u001b[38;5;124m'\u001b[39m\u001b[38;5;124mgreen\u001b[39m\u001b[38;5;124m'\u001b[39m,\n\u001b[0;32m      5\u001b[0m     \u001b[38;5;124m'\u001b[39m\u001b[38;5;124mvirginica\u001b[39m\u001b[38;5;124m'\u001b[39m: \u001b[38;5;124m'\u001b[39m\u001b[38;5;124mpurple\u001b[39m\u001b[38;5;124m'\u001b[39m\n\u001b[0;32m      6\u001b[0m }   \n\u001b[1;32m----> 7\u001b[0m fig \u001b[38;5;241m=\u001b[39m \u001b[43mpx\u001b[49m\u001b[38;5;241m.\u001b[39mscatter(df, x\u001b[38;5;241m=\u001b[39m\u001b[38;5;124m'\u001b[39m\u001b[38;5;124msepal_width\u001b[39m\u001b[38;5;124m'\u001b[39m, y\u001b[38;5;241m=\u001b[39m\u001b[38;5;124m'\u001b[39m\u001b[38;5;124msepal_length\u001b[39m\u001b[38;5;124m'\u001b[39m, color\u001b[38;5;241m=\u001b[39m\u001b[38;5;124m'\u001b[39m\u001b[38;5;124mspecies\u001b[39m\u001b[38;5;124m'\u001b[39m, color_discrete_map\u001b[38;5;241m=\u001b[39mcustom_color_map)\n\u001b[0;32m     10\u001b[0m \u001b[38;5;66;03m#연속형 색상 지정\u001b[39;00m\n\u001b[0;32m     11\u001b[0m fig \u001b[38;5;241m=\u001b[39m px\u001b[38;5;241m.\u001b[39mscatter(df, x\u001b[38;5;241m=\u001b[39m\u001b[38;5;124m'\u001b[39m\u001b[38;5;124msepal_width\u001b[39m\u001b[38;5;124m'\u001b[39m, y\u001b[38;5;241m=\u001b[39m\u001b[38;5;124m'\u001b[39m\u001b[38;5;124msepal_length\u001b[39m\u001b[38;5;124m'\u001b[39m, color\u001b[38;5;241m=\u001b[39m\u001b[38;5;124m'\u001b[39m\u001b[38;5;124mpetal_length\u001b[39m\u001b[38;5;124m'\u001b[39m,\n\u001b[0;32m     12\u001b[0m                  color_continuous_scale\u001b[38;5;241m=\u001b[39mpx\u001b[38;5;241m.\u001b[39mcolors\u001b[38;5;241m.\u001b[39msequential\u001b[38;5;241m.\u001b[39mViridis)\n",
      "\u001b[1;31mNameError\u001b[0m: name 'px' is not defined"
     ]
    }
   ],
   "source": [
    "# 범주형 색상 지정\n",
    "custom_color_map = {\n",
    "    'setosa': 'black',\n",
    "    'versicolor': 'green',\n",
    "    'virginica': 'purple'\n",
    "}   \n",
    "fig = px.scatter(df, x='sepal_width', y='sepal_length', color='species', color_discrete_map=custom_color_map)\n",
    "\n",
    "\n",
    "#연속형 색상 지정\n",
    "fig = px.scatter(df, x='sepal_width', y='sepal_length', color='petal_length',\n",
    "                 color_continuous_scale=px.colors.sequential.Viridis)\n",
    "\n",
    "#사용자 지정 색상 스케일 만들기 ( 연속형 )\n",
    "\n",
    "custom_color_scale = [\n",
    "    (0.0, \"red\"),\n",
    "    (0.5, \"yellow\"),\n",
    "    (1.0, \"green\")\n",
    "]\n",
    "\n",
    "# 산점도 그래프 생성, 사용자 지정 색상 스케일 적용\n",
    "fig = px.scatter(df, x='sepal_width', y='sepal_length', color='petal_length',\n",
    "                 color_continuous_scale=custom_color_scale)\n",
    "\n",
    "\n",
    "# 범례에서 사용자 지정 색상 순서\n",
    "category_orders = {\n",
    "    'species': ['versicolor', 'virginica', 'setosa']\n",
    "}\n",
    "\n",
    "# 사용자 지정 색상 맵\n",
    "custom_color_map = {\n",
    "    'setosa': 'red',\n",
    "    'versicolor': 'green',\n",
    "    'virginica': 'blue'\n",
    "}\n",
    "\n",
    "# 산점도 그래프 생성\n",
    "fig = px.scatter(df, x='sepal_width', y='sepal_length', color='species',    \n",
    "                 category_orders=category_orders,\n",
    "                 color_discrete_map=custom_color_map)\n"
   ]
  },
  {
   "cell_type": "code",
   "execution_count": null,
   "metadata": {},
   "outputs": [],
   "source": [
    "fig1 = px.그래프명(tips, # 데이터명(데이터프레임 형식)\n",
    "                 x='tip', # x축에 들어갈 컬럼\n",
    "                 y='total_bill', # y축에 들어갈 컬럼\n",
    "                 color='sex', # 색상 구분 기준이 될 컬럼명 (seaborn의 hue와 같은 역할)\n",
    "                 size='tip', # tip 에 따라 크기를 변화\n",
    "                 marginal_x = 'box', # scatterplot의 옵션 중 하나인 인접 그래프의 스타일 지정 (박스) \n",
    "                 marginal_y = 'histogram',# scatterplot의 옵션 중 하나인 인접 그래프의 스타일 지정 (히스토그램) \n",
    "                 trendline=\"ols\",  # x축과 y축으로 지정된 데이터에 대해서 회귀분석(ols로)\n",
    "                 trendline_color_override=\"grey\",  # trendline 색상 지정\n",
    "                 hover_name='day', # 팝업 데이터 최상단에 데이터프레임 컬럼명             \n",
    "                 hover_data=['day', 'size'], # 참고할 데이터 추가 - tips.columns로 설정하면 다 보여줌 \n",
    "                 title='Tips by Total Bill - Scatter Plot', # 그래프 타이틀 지정\n",
    "                 facet_col='day', #day 기준으로 분할\n",
    "                 log_x =True, # 대소비교하기\n",
    "                 width=800,  # 그래프의 크기 조절\n",
    "                 height=600,\n",
    "                 opacity = .5  # 투명도\n",
    "                 )\n",
    "\n",
    "\n",
    "\n",
    "fig = px.line(samsung,\n",
    "              x=\"Date\",\n",
    "              y=\"Close\",\n",
    "              hover_name='Date',\n",
    "              range_x=['2020-01-01', '2022-03-29'], #범위 설정하기\n",
    "              title='samsung')\n",
    "\n",
    "\n",
    "\n",
    "fig = px.bar(Asia, x='country', y='lifeExp', color='country',\n",
    "             animation_frame='year', #경과기준\n",
    "             animation_group='country', #경과에 따라 바뀔 컬럼\n",
    "             title='Life expectancy in Asia',\n",
    "             range_y=[28 ,100.603000]) #범위 설정 \n",
    "fig.show()\n",
    "\n",
    "\n",
    "\n",
    "fig = px.histogram(tips,\n",
    "                   x='total_bill',\n",
    "                   color='sex',\n",
    "                   nbins=20, # 20개 묶음\n",
    "                   opacity=0.6, #투명도 설정\n",
    "                   color_discrete_sequence=['red', 'blue']) #컬러 각각 지정 \n",
    "\n",
    "\n",
    "\n",
    "canada = gapminder[gapminder['country']=='Canada'] \n",
    "fig = px.bar(canada, \n",
    "              x='year', \n",
    "              y='pop', \n",
    "              hover_data=['gdpPercap', 'lifeExp'],\n",
    "              color='lifeExp', #기대 수명에 따른 색 변화\n",
    "              #orientation='h' #가로로 돌리기\n",
    "              title='Life expectancy in Canada',\n",
    "              width=600, height=600,\n",
    "             labels={'pop':'population of Canada for y', 'year':'year for x'}\n",
    "              )"
   ]
  },
  {
   "cell_type": "code",
   "execution_count": null,
   "metadata": {},
   "outputs": [],
   "source": [
    "fig.show(config={'modeBarButtonsToAdd':['drawline',#그리기 기능 넣기\n",
    "                                        'drawopenpath',\n",
    "                                        'drawclosedpath',\n",
    "                                        'drawcircle',\n",
    "                                        'drawrect',\n",
    "                                        'eraseshape'\n",
    "                                       ]})\n",
    "\n",
    "\n",
    "fig.update_layout(title_x = .5, font_family = 'Segoe Print', width = 700,\n",
    "                  height = 500, font_size = 15)\n",
    "\n",
    "fig.update_xaxes(title_standoff = 50)\n",
    "fig.update_yaxes(title_standoff = 50, tickangle = 45)\n",
    "\n",
    "fig.update_xaxes(showgrid=True, minor_showgrid=True, gridcolor = 'black')\n",
    "fig.update_yaxes(showgrid=True, minor_showgrid=True)"
   ]
  },
  {
   "cell_type": "markdown",
   "metadata": {},
   "source": [
    "--Plotly treemap"
   ]
  },
  {
   "cell_type": "code",
   "execution_count": null,
   "metadata": {},
   "outputs": [],
   "source": [
    "# df = gapminder[gapminder['year']==2007 & gapminder['continent']=='Americas']\n",
    "df = px.data.gapminder().query(\"year == 2007\") #query로 위 과정을 간략히 할 수있다.\n",
    "fig = px.treemap(df,\n",
    "                 path=[px.Constant(\"all\t\"),'continent','country'], \n",
    "                 values='lifeExp', #values 정렬 기준\n",
    "                 color='lifeExp',\n",
    "                 labels={'lifeExp':'기대수명'}) #라벨링\n",
    "fig.update_layout(margin = dict(t=50, l=25, r=25, b=25)) #위 왼 오 아래 여백 지정\n",
    "fig.show()"
   ]
  },
  {
   "cell_type": "markdown",
   "metadata": {},
   "source": [
    "컬럼 소문자로 바꾸기"
   ]
  },
  {
   "cell_type": "code",
   "execution_count": 1,
   "metadata": {},
   "outputs": [],
   "source": [
    "# from ipypb import ipb\n",
    "# train.columns = [train.columns[i].lower() for i in ipb(range(len(train.columns)))]"
   ]
  }
 ],
 "metadata": {
  "kernelspec": {
   "display_name": "Python 3 (ipykernel)",
   "language": "python",
   "name": "python3"
  },
  "language_info": {
   "codemirror_mode": {
    "name": "ipython",
    "version": 3
   },
   "file_extension": ".py",
   "mimetype": "text/x-python",
   "name": "python",
   "nbconvert_exporter": "python",
   "pygments_lexer": "ipython3",
   "version": "3.12.5"
  }
 },
 "nbformat": 4,
 "nbformat_minor": 4
}
